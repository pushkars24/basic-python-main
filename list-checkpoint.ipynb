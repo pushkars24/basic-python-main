{
 "cells": [
  {
   "cell_type": "markdown",
   "id": "0fc58e2b",
   "metadata": {},
   "source": [
    "# List Operations By Shubham Nivangune"
   ]
  },
  {
   "cell_type": "code",
   "execution_count": null,
   "id": "9ff62e04",
   "metadata": {},
   "outputs": [],
   "source": [
    "mylist = ['apple','mango','banana']"
   ]
  },
  {
   "cell_type": "code",
   "execution_count": 2,
   "id": "ab54bf64",
   "metadata": {},
   "outputs": [
    {
     "name": "stdout",
     "output_type": "stream",
     "text": [
      "['apple', 'mango', 'banana']\n"
     ]
    }
   ],
   "source": [
    "print(mylist)"
   ]
  },
  {
   "cell_type": "code",
   "execution_count": 3,
   "id": "c915204f",
   "metadata": {},
   "outputs": [
    {
     "name": "stdout",
     "output_type": "stream",
     "text": [
      "3\n"
     ]
    }
   ],
   "source": [
    "print(len(mylist))\n",
    "#this is for length"
   ]
  },
  {
   "cell_type": "code",
   "execution_count": 4,
   "id": "e6a5abed",
   "metadata": {},
   "outputs": [
    {
     "name": "stdout",
     "output_type": "stream",
     "text": [
      "['apple', 'mango', 'banana', 'orange']\n"
     ]
    }
   ],
   "source": [
    "mylist.append('orange')\n",
    "print(mylist)"
   ]
  },
  {
   "cell_type": "code",
   "execution_count": 5,
   "id": "1a2caa91",
   "metadata": {},
   "outputs": [
    {
     "name": "stdout",
     "output_type": "stream",
     "text": [
      "['apple', 'watermelon', 'mango', 'banana', 'orange']\n"
     ]
    }
   ],
   "source": [
    "#insert elements perticular position\n",
    "mylist.insert(1,\"watermelon\")\n",
    "print(mylist)"
   ]
  },
  {
   "cell_type": "code",
   "execution_count": 6,
   "id": "43b4288a",
   "metadata": {},
   "outputs": [
    {
     "name": "stdout",
     "output_type": "stream",
     "text": [
      "['apple', 'watermelon', 'mango', 'banana']\n"
     ]
    }
   ],
   "source": [
    "#pop will remove last elementof list\n",
    "mylist.pop()\n",
    "print(mylist)"
   ]
  },
  {
   "cell_type": "code",
   "execution_count": 9,
   "id": "bd8145f9",
   "metadata": {},
   "outputs": [
    {
     "name": "stdout",
     "output_type": "stream",
     "text": [
      "['mango', 'banana']\n"
     ]
    }
   ],
   "source": [
    "#for removing\n",
    "mylist.remove(mylist[0])\n",
    "print(mylist)"
   ]
  },
  {
   "cell_type": "code",
   "execution_count": 10,
   "id": "b6087b60",
   "metadata": {},
   "outputs": [
    {
     "name": "stdout",
     "output_type": "stream",
     "text": [
      "['mango']\n"
     ]
    }
   ],
   "source": [
    "#for removing\n",
    "mylist.remove('banana')\n",
    "print(mylist)"
   ]
  },
  {
   "cell_type": "code",
   "execution_count": 11,
   "id": "fb968b9d",
   "metadata": {},
   "outputs": [
    {
     "name": "stdout",
     "output_type": "stream",
     "text": [
      "[]\n"
     ]
    }
   ],
   "source": [
    "#clear function\n",
    "mylist.clear()\n",
    "print(mylist)"
   ]
  },
  {
   "cell_type": "code",
   "execution_count": 15,
   "id": "ae9d029c",
   "metadata": {},
   "outputs": [],
   "source": [
    "mylist = ['apple','mango','banana']"
   ]
  },
  {
   "cell_type": "code",
   "execution_count": 16,
   "id": "a8a03594",
   "metadata": {},
   "outputs": [
    {
     "name": "stdout",
     "output_type": "stream",
     "text": [
      "['banana', 'mango', 'apple']\n"
     ]
    }
   ],
   "source": [
    "#used for reversing list\n",
    "mylist.reverse()\n",
    "print(mylist)"
   ]
  },
  {
   "cell_type": "code",
   "execution_count": 17,
   "id": "fce853b6",
   "metadata": {},
   "outputs": [
    {
     "name": "stdout",
     "output_type": "stream",
     "text": [
      "[-1, 5, 3, -1, 10, 6]\n"
     ]
    }
   ],
   "source": [
    "mylist = [-1, 5 ,3 ,-1 ,10 ,6]\n",
    "print(mylist)"
   ]
  },
  {
   "cell_type": "code",
   "execution_count": 18,
   "id": "cfb87459",
   "metadata": {},
   "outputs": [
    {
     "name": "stdout",
     "output_type": "stream",
     "text": [
      "[-1, -1, 3, 5, 6, 10]\n"
     ]
    }
   ],
   "source": [
    "#used for sorting\n",
    "mylist.sort()\n",
    "print(mylist)"
   ]
  },
  {
   "cell_type": "code",
   "execution_count": 19,
   "id": "bf56243a",
   "metadata": {},
   "outputs": [
    {
     "name": "stdout",
     "output_type": "stream",
     "text": [
      "[9, -1, 3, 5, 6, 10]\n"
     ]
    }
   ],
   "source": [
    "#for replacing\n",
    "mylist[0] = 9\n",
    "print(mylist)"
   ]
  },
  {
   "cell_type": "code",
   "execution_count": 20,
   "id": "65b81523",
   "metadata": {},
   "outputs": [
    {
     "name": "stdout",
     "output_type": "stream",
     "text": [
      "[-1, 9, -1, 3, 5, 6, 10]\n"
     ]
    }
   ],
   "source": [
    "mylist.insert(0,-1)\n",
    "print(mylist)"
   ]
  },
  {
   "cell_type": "code",
   "execution_count": 24,
   "id": "2513ab9f",
   "metadata": {},
   "outputs": [
    {
     "name": "stdout",
     "output_type": "stream",
     "text": [
      "[-1, 9, -1]\n",
      "[9, -1, 3]\n"
     ]
    }
   ],
   "source": [
    "#slicing method\n",
    "print(mylist[0:3])\n",
    "print(mylist[1:4])"
   ]
  },
  {
   "cell_type": "code",
   "execution_count": 26,
   "id": "8a4ab9ab",
   "metadata": {},
   "outputs": [
    {
     "name": "stdout",
     "output_type": "stream",
     "text": [
      "[-1, 9, -1, 3, 5, 6, 10]\n",
      "[-1, -1, 5, 10]\n",
      "[-1, 3, 10]\n",
      "[9, 3, 6]\n"
     ]
    }
   ],
   "source": [
    "#its start from the begining to end\n",
    "print(mylist[0::1])\n",
    "\n",
    "#here is every secound element printed\n",
    "print(mylist[0::2])\n",
    "print(mylist[0::3])\n",
    "\n",
    "print(mylist[1::2])"
   ]
  },
  {
   "cell_type": "code",
   "execution_count": 30,
   "id": "3ea2ad04",
   "metadata": {},
   "outputs": [
    {
     "name": "stdout",
     "output_type": "stream",
     "text": [
      "[10, 6, 5, 3, -1, 9, -1]\n",
      "[6, 5, 3, -1, 9, -1]\n",
      "[10, 5, -1, -1]\n"
     ]
    }
   ],
   "source": [
    "#reverse list \n",
    "print(mylist[::-1])\n",
    "print(mylist[5::-1])\n",
    "print(mylist[::-2])"
   ]
  },
  {
   "cell_type": "code",
   "execution_count": 31,
   "id": "27b793b1",
   "metadata": {},
   "outputs": [],
   "source": [
    "mylist = ['apple','banana','mango']"
   ]
  },
  {
   "cell_type": "code",
   "execution_count": 32,
   "id": "d1a332d4",
   "metadata": {},
   "outputs": [
    {
     "name": "stdout",
     "output_type": "stream",
     "text": [
      "['apple', 'banana', 'mango']\n"
     ]
    }
   ],
   "source": [
    "#copy list\n",
    "copy_list = mylist\n",
    "print(copy_list)"
   ]
  },
  {
   "cell_type": "code",
   "execution_count": 33,
   "id": "886b6ced",
   "metadata": {},
   "outputs": [
    {
     "name": "stdout",
     "output_type": "stream",
     "text": [
      "['lemon', 'banana', 'mango']\n",
      "['lemon', 'banana', 'mango']\n"
     ]
    }
   ],
   "source": [
    "#important note\n",
    "_list = ['apple','banana','mango']\n",
    "copy_list = _list\n",
    "copy_list[0] = 'lemon'\n",
    "\n",
    "print(_list)\n",
    "print(copy_list)\n",
    "#both list changes [original & copied]"
   ]
  },
  {
   "cell_type": "code",
   "execution_count": 34,
   "id": "66a8eb2c",
   "metadata": {},
   "outputs": [
    {
     "name": "stdout",
     "output_type": "stream",
     "text": [
      "['apple', 'banana', 'mango']\n",
      "['lemon', 'banana', 'mango']\n"
     ]
    }
   ],
   "source": [
    "#important note\n",
    "_list = ['apple','banana','mango']\n",
    "copy_list = _list.copy()\n",
    "copy_list[0] = 'lemon'\n",
    "\n",
    "print(_list)\n",
    "print(copy_list)\n",
    "#use this way\n",
    "\n",
    "\n",
    "#list_name.copy()"
   ]
  },
  {
   "cell_type": "code",
   "execution_count": 36,
   "id": "acfe1af8",
   "metadata": {},
   "outputs": [
    {
     "name": "stdout",
     "output_type": "stream",
     "text": [
      "[1, 2, 3, 4, 5, 6, 7, 8]\n",
      "[1, 4, 9, 16, 25, 36, 49, 64]\n"
     ]
    }
   ],
   "source": [
    "#square of elementsy\n",
    "_mylist = [1,2,3,4,5,6,7,8]\n",
    "\n",
    "newlist = [i*i for i in _mylist]\n",
    "#explaination :\n",
    "#1*1 = 1\n",
    "#2*2 = 4\n",
    "#3*3 = 9\n",
    "print(_mylist)\n",
    "print(newlist)"
   ]
  }
 ],
 "metadata": {
  "kernelspec": {
   "display_name": "Python 3 (ipykernel)",
   "language": "python",
   "name": "python3"
  },
  "language_info": {
   "codemirror_mode": {
    "name": "ipython",
    "version": 3
   },
   "file_extension": ".py",
   "mimetype": "text/x-python",
   "name": "python",
   "nbconvert_exporter": "python",
   "pygments_lexer": "ipython3",
   "version": "3.7.2"
  }
 },
 "nbformat": 4,
 "nbformat_minor": 5
}
